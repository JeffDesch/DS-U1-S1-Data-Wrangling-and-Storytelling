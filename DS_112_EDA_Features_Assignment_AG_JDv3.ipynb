{
  "cells": [
    {
      "cell_type": "markdown",
      "id": "35a2ff67",
      "metadata": {
        "deletable": false,
        "editable": false,
        "nbgrader": {
          "cell_type": "markdown",
          "checksum": "059a511b750055fc013feafaed08ae66",
          "grade": false,
          "grade_id": "cell-74368b748e448bbf",
          "locked": true,
          "schema_version": 3,
          "solution": false,
          "task": false
        },
        "id": "35a2ff67"
      },
      "source": [
        "## Autograded Notebook (Canvas & CodeGrade)\n",
        "\n",
        "This notebook will be automatically graded. It is designed to test your answers and award points for the correct answers. Following the instructions for each Task carefully.\n",
        "\n",
        "### Instructions\n",
        "\n",
        "* **Download this notebook** as you would any other ipynb file\n",
        "* **Upload** to Google Colab or work locally (if you have that set-up)\n",
        "* **Delete `raise NotImplementedError()`**\n",
        "* Write your code in the `# YOUR CODE HERE` space\n",
        "* **Execute** the Test cells that contain `assert` statements - these help you check your work (others contain hidden tests that will be checked when you submit through Canvas)\n",
        "* **Save** your notebook when you are finished\n",
        "* **Download** as a `ipynb` file (if working in Colab)\n",
        "* **Upload** your complete notebook to Canvas (there will be additional instructions in Slack and/or Canvas)"
      ]
    },
    {
      "cell_type": "markdown",
      "id": "d43adaeb",
      "metadata": {
        "deletable": false,
        "editable": false,
        "nbgrader": {
          "cell_type": "markdown",
          "checksum": "bcf100aceed422cf9c093eda865181d6",
          "grade": false,
          "grade_id": "cell-91243a87d52ba4a2",
          "locked": true,
          "schema_version": 3,
          "solution": false,
          "task": false
        },
        "id": "d43adaeb"
      },
      "source": [
        "# Unit 1 Sprint 1 Module 2\n",
        "\n",
        "## EDA and Features\n",
        "\n",
        "### Objectives\n",
        "\n",
        "* Load and csv files\n",
        "* Use basic Pandas function for data exploration\n",
        "* Understand the purpose of feature engineering\n",
        "\n",
        "#### Total notebook points: 13"
      ]
    },
    {
      "cell_type": "markdown",
      "id": "4c27355e",
      "metadata": {
        "deletable": false,
        "editable": false,
        "nbgrader": {
          "cell_type": "markdown",
          "checksum": "cf6028bf7bc028ebccf0f892dc37dbdd",
          "grade": false,
          "grade_id": "cell-87878ff49ee098cb",
          "locked": true,
          "schema_version": 3,
          "solution": false,
          "task": false
        },
        "id": "4c27355e"
      },
      "source": [
        "**Task 1** - Load a dataset via its URL\n",
        "\n",
        "* Create a Python list named `column_headers` with the following items: `'age', 'workclass', 'fnlwgt', 'education', 'education-num', 'marital-status', 'occupation', 'relationship', 'race', 'sex', 'capital-gain', 'capital-loss', 'hours-per-week','native-country', 'income'`.  Lists have the form `listname = ['element 1', 'element 2', element 3']`\n",
        "* Load the file from the URL provided below using the `column_headers` list you created to name your columns: set the `pd.read_csv()` to `column_headers` using `names =`.  \n",
        "* Name the DataFrame `adult`"
      ]
    },
    {
      "cell_type": "code",
      "execution_count": 147,
      "id": "ccbaa907",
      "metadata": {
        "deletable": false,
        "nbgrader": {
          "cell_type": "code",
          "checksum": "2e93658d76dec0ec080db31003a6ad53",
          "grade": false,
          "grade_id": "cell-8d0429f74b1e8242",
          "locked": false,
          "schema_version": 3,
          "solution": true,
          "task": false
        },
        "id": "ccbaa907",
        "colab": {
          "base_uri": "https://localhost:8080/"
        },
        "outputId": "a01be756-1045-49d1-d920-191a696b0786"
      },
      "outputs": [
        {
          "output_type": "stream",
          "name": "stdout",
          "text": [
            "   age          workclass  fnlwgt   education  education-num  \\\n",
            "0   39          State-gov   77516   Bachelors             13   \n",
            "1   50   Self-emp-not-inc   83311   Bachelors             13   \n",
            "2   38            Private  215646     HS-grad              9   \n",
            "3   53            Private  234721        11th              7   \n",
            "4   28            Private  338409   Bachelors             13   \n",
            "\n",
            "        marital-status          occupation    relationship    race      sex  \\\n",
            "0        Never-married        Adm-clerical   Not-in-family   White     Male   \n",
            "1   Married-civ-spouse     Exec-managerial         Husband   White     Male   \n",
            "2             Divorced   Handlers-cleaners   Not-in-family   White     Male   \n",
            "3   Married-civ-spouse   Handlers-cleaners         Husband   Black     Male   \n",
            "4   Married-civ-spouse      Prof-specialty            Wife   Black   Female   \n",
            "\n",
            "   capital-gain  capital-loss  hours-per-week  native-country  income  \n",
            "0          2174             0              40   United-States   <=50K  \n",
            "1             0             0              13   United-States   <=50K  \n",
            "2             0             0              40   United-States   <=50K  \n",
            "3             0             0              40   United-States   <=50K  \n",
            "4             0             0              40            Cuba   <=50K  \n"
          ]
        }
      ],
      "source": [
        "# Task 1\n",
        "import pandas as pd\n",
        "import numpy as np\n",
        "\n",
        "# URL for the dataset\n",
        "data_url = 'https://archive.ics.uci.edu/ml/machine-learning-databases/adult/adult.data'\n",
        "\n",
        "# YOUR CODE HERE\n",
        "column_headers = ['age', 'workclass', 'fnlwgt', 'education', 'education-num', 'marital-status', 'occupation', 'relationship', 'race', 'sex', 'capital-gain', 'capital-loss', 'hours-per-week','native-country', 'income']\n",
        "adult = pd.read_csv(data_url, names = column_headers)\n",
        "\n",
        "# Print out your DataFrame\n",
        "print(adult.head())"
      ]
    },
    {
      "cell_type": "markdown",
      "id": "165dd7b8",
      "metadata": {
        "deletable": false,
        "editable": false,
        "nbgrader": {
          "cell_type": "markdown",
          "checksum": "89035ad69ecbb3c9967e20c9b9eca221",
          "grade": false,
          "grade_id": "cell-4209d0e0042e98b4",
          "locked": true,
          "schema_version": 3,
          "solution": false,
          "task": false
        },
        "id": "165dd7b8"
      },
      "source": [
        "**Task 1 Test**"
      ]
    },
    {
      "cell_type": "code",
      "execution_count": 148,
      "id": "0c3c93ab",
      "metadata": {
        "deletable": false,
        "editable": false,
        "nbgrader": {
          "cell_type": "code",
          "checksum": "cf624f10d9fd8e96c7ddfe9ccb5cb733",
          "grade": true,
          "grade_id": "cell-788c5161452ee70a",
          "locked": true,
          "points": 1,
          "schema_version": 3,
          "solution": false,
          "task": false
        },
        "id": "0c3c93ab"
      },
      "outputs": [],
      "source": [
        "# Task 1 - Test\n",
        "\n",
        "# These tests are for you to check your work before submitting\n",
        "assert isinstance(column_headers, list), 'Have you created a list of header names?'\n",
        "assert len(column_headers) == 15, 'Did you include the correct number of items in the column_headers list?'\n",
        "assert isinstance(adult, pd.DataFrame), 'Have you created a DataFrame named adult?'\n",
        "\n",
        "# These tests will be completed when you submit your notebook for autograding"
      ]
    },
    {
      "cell_type": "markdown",
      "id": "73a3346e",
      "metadata": {
        "deletable": false,
        "editable": false,
        "nbgrader": {
          "cell_type": "markdown",
          "checksum": "771365f4473cd5521a0bd1631ffeb7b9",
          "grade": false,
          "grade_id": "cell-2379f060057ddbda",
          "locked": true,
          "schema_version": 3,
          "solution": false,
          "task": false
        },
        "id": "73a3346e"
      },
      "source": [
        "**Task 2** - Look at the first and last rows of the DataFrame\n",
        "\n",
        "* Assign the first **ten (10)** rows of the `adult` DataFrame to `adult_head`\n",
        "* Assign the last **ten (10)** rows of the `adult` DataFrame to `adult_tail`"
      ]
    },
    {
      "cell_type": "code",
      "execution_count": 149,
      "id": "9aa7fc05",
      "metadata": {
        "deletable": false,
        "nbgrader": {
          "cell_type": "code",
          "checksum": "afb2f550652e1b8ec028287d9d59bf58",
          "grade": false,
          "grade_id": "cell-7db4cedd667e6780",
          "locked": false,
          "schema_version": 3,
          "solution": true,
          "task": false
        },
        "id": "9aa7fc05"
      },
      "outputs": [],
      "source": [
        "# Task 2\n",
        "\n",
        "# YOUR CODE HERE\n",
        "adult_head = adult.head(10)\n",
        "adult_tail = adult.tail(10)\n",
        "\n",
        "# Optional: print out adult_head and adult_tail"
      ]
    },
    {
      "cell_type": "markdown",
      "id": "475c9725",
      "metadata": {
        "deletable": false,
        "editable": false,
        "nbgrader": {
          "cell_type": "markdown",
          "checksum": "17725869551bc186fa38f90d8d9128c1",
          "grade": false,
          "grade_id": "cell-2febb54b07d9f844",
          "locked": true,
          "schema_version": 3,
          "solution": false,
          "task": false
        },
        "id": "475c9725"
      },
      "source": [
        "**Task 2 Test**"
      ]
    },
    {
      "cell_type": "code",
      "execution_count": 150,
      "id": "0bb71189",
      "metadata": {
        "deletable": false,
        "editable": false,
        "nbgrader": {
          "cell_type": "code",
          "checksum": "05ce94d0200b718c5a1b18b5b2de7031",
          "grade": true,
          "grade_id": "cell-37f4eea6d7a1793b",
          "locked": true,
          "points": 1,
          "schema_version": 3,
          "solution": false,
          "task": false
        },
        "id": "0bb71189"
      },
      "outputs": [],
      "source": [
        "# Task 2 - Test\n",
        "\n",
        "# These tests are for you to check your work before submitting\n",
        "assert isinstance(adult_head, pd.DataFrame), 'Have you created a DataFrame named adult_head?'\n",
        "assert isinstance(adult_tail, pd.DataFrame), 'Have you created a DataFrame named adult_tail?'\n",
        "\n",
        "# These tests will be completed when you submit your notebook for autograding"
      ]
    },
    {
      "cell_type": "markdown",
      "id": "dc50099f",
      "metadata": {
        "deletable": false,
        "editable": false,
        "nbgrader": {
          "cell_type": "markdown",
          "checksum": "15cd3454c27dadd89647c06e3720a842",
          "grade": false,
          "grade_id": "cell-103c0651c08f86b9",
          "locked": true,
          "schema_version": 3,
          "solution": false,
          "task": false
        },
        "id": "dc50099f"
      },
      "source": [
        "**Task 3** - Variable data types\n",
        "\n",
        "For your `adult` DataFrame, determine the data types for the variables.\n",
        "\n",
        "* Count the number of `int64` variable types and assign to `number_int64` (your value should be an integer)\n",
        "* Count the number of `object` variable types and assign to `number_object` (your value should be an integer)\n",
        "\n",
        "There are different ways to find the data types of the columns in a DataFrame. All you need to do for this task is to count the number of each data type and assign to the corresponding variable."
      ]
    },
    {
      "cell_type": "code",
      "execution_count": 175,
      "id": "79ae06d9",
      "metadata": {
        "deletable": false,
        "nbgrader": {
          "cell_type": "code",
          "checksum": "e2e5c2292dd9470f1d525523f7a20c8b",
          "grade": false,
          "grade_id": "cell-8f75ae5ed5309145",
          "locked": false,
          "schema_version": 3,
          "solution": true,
          "task": false
        },
        "id": "79ae06d9",
        "colab": {
          "base_uri": "https://localhost:8080/"
        },
        "outputId": "5839e3ad-e5bf-4f0e-9405-4454450f3cad"
      },
      "outputs": [
        {
          "output_type": "stream",
          "name": "stdout",
          "text": [
            "6\n",
            "9\n"
          ]
        }
      ],
      "source": [
        "# Task 3\n",
        "\n",
        "#print(adult.dtypes.value_counts().index)\n",
        "number_int64 = adult.dtypes.value_counts()[1]\n",
        "#number_object = adult.dtypes.value_counts()['object'] <- error\n",
        "number_object = adult.dtypes.value_counts()[0]\n",
        "#print(number_int64)\n",
        "#print(number_object)"
      ]
    },
    {
      "cell_type": "markdown",
      "id": "b4a3c0e2",
      "metadata": {
        "deletable": false,
        "editable": false,
        "nbgrader": {
          "cell_type": "markdown",
          "checksum": "012f0b5143aa31b662bc66f0956d5059",
          "grade": false,
          "grade_id": "cell-2e76e5286410b2b8",
          "locked": true,
          "schema_version": 3,
          "solution": false,
          "task": false
        },
        "id": "b4a3c0e2"
      },
      "source": [
        "**Task 3 Test**"
      ]
    },
    {
      "cell_type": "code",
      "execution_count": 152,
      "id": "dd4677b6",
      "metadata": {
        "deletable": false,
        "editable": false,
        "nbgrader": {
          "cell_type": "code",
          "checksum": "de1940b86ec890458a4e61b5f4936ff3",
          "grade": true,
          "grade_id": "cell-1425fb0c04a97cd3",
          "locked": true,
          "points": 1,
          "schema_version": 3,
          "solution": false,
          "task": false
        },
        "id": "dd4677b6"
      },
      "outputs": [],
      "source": [
        "# Task 3 - Test\n",
        "\n",
        "# Hidden tests - you will see the results when you submit to Canvas"
      ]
    },
    {
      "cell_type": "markdown",
      "id": "819489dd",
      "metadata": {
        "deletable": false,
        "editable": false,
        "nbgrader": {
          "cell_type": "markdown",
          "checksum": "b1301fd33b560a3740bdd684d8078977",
          "grade": false,
          "grade_id": "cell-4e06121a6ec68913",
          "locked": true,
          "schema_version": 3,
          "solution": false,
          "task": false
        },
        "id": "819489dd"
      },
      "source": [
        "**Task 4** - DataFrame dimensions\n",
        "\n",
        "* Find the dimensions of your DataFrame and assign result to the variable `adult_dimension`. Your variable should be a *tuple* and the row dimension should be listed first.\n",
        "\n",
        "Hint: A tuple looks like this: (1, 2) - a tuple is a collection which is ordered and unchangeable. You can use the function `type(your_variable)` to print the variable type.\n",
        "\n",
        "Hint 2: The `shape` method returns a tuple - convenient!"
      ]
    },
    {
      "cell_type": "code",
      "execution_count": 153,
      "id": "383dbd65",
      "metadata": {
        "deletable": false,
        "nbgrader": {
          "cell_type": "code",
          "checksum": "2f2680e16ec6ce6c23a75fd0ba912d82",
          "grade": false,
          "grade_id": "cell-0dbc0cadefa896cd",
          "locked": false,
          "schema_version": 3,
          "solution": true,
          "task": false
        },
        "id": "383dbd65",
        "colab": {
          "base_uri": "https://localhost:8080/"
        },
        "outputId": "d4d7e653-025a-4109-8706-3646797ec53b"
      },
      "outputs": [
        {
          "output_type": "stream",
          "name": "stdout",
          "text": [
            "(32561, 15)\n"
          ]
        }
      ],
      "source": [
        "# Task 4\n",
        "\n",
        "# YOUR CODE HERE\n",
        "adult_dimension = adult.shape\n",
        "\n",
        "# Print out the shape\n",
        "print(adult_dimension)"
      ]
    },
    {
      "cell_type": "markdown",
      "id": "9cf93cb5",
      "metadata": {
        "deletable": false,
        "editable": false,
        "nbgrader": {
          "cell_type": "markdown",
          "checksum": "89a44535ff808ca31563b1c4ad7b86cd",
          "grade": false,
          "grade_id": "cell-2a847b48e6c0aaf7",
          "locked": true,
          "schema_version": 3,
          "solution": false,
          "task": false
        },
        "id": "9cf93cb5"
      },
      "source": [
        "**Task 4 Test**"
      ]
    },
    {
      "cell_type": "code",
      "execution_count": 154,
      "id": "afa73083",
      "metadata": {
        "deletable": false,
        "editable": false,
        "nbgrader": {
          "cell_type": "code",
          "checksum": "7c24eafded5dd35311edd3a25d3a2a3f",
          "grade": true,
          "grade_id": "cell-137d53dc191babc4",
          "locked": true,
          "points": 1,
          "schema_version": 3,
          "solution": false,
          "task": false
        },
        "id": "afa73083"
      },
      "outputs": [],
      "source": [
        "# Task 4 - Test\n",
        "\n",
        "assert isinstance(adult_dimension, tuple), 'Have you created a tuple named adult_dimension?'\n",
        "\n",
        "# Hidden tests - you will see the results when you submit to Canvas"
      ]
    },
    {
      "cell_type": "markdown",
      "id": "fcd50164",
      "metadata": {
        "deletable": false,
        "editable": false,
        "nbgrader": {
          "cell_type": "markdown",
          "checksum": "ea0047761994ced24f8d6bf2caf1b742",
          "grade": false,
          "grade_id": "cell-6470aee70203f66e",
          "locked": true,
          "schema_version": 3,
          "solution": false,
          "task": false
        },
        "id": "fcd50164"
      },
      "source": [
        "**Task 5** - Missing values\n",
        "\n",
        "Are there any missing values in the dataset? Let's check!\n",
        "\n",
        "* Check for missing values using `.isnull().sum()`\n",
        "* Count the number of missing values and assign the value to the variable `adult_missing`. Your variable should be an integer."
      ]
    },
    {
      "cell_type": "code",
      "execution_count": 155,
      "id": "db10495a",
      "metadata": {
        "deletable": false,
        "nbgrader": {
          "cell_type": "code",
          "checksum": "902ef5a9514776518f80bcbbf5d8f9a3",
          "grade": false,
          "grade_id": "cell-866428f0345c8e00",
          "locked": false,
          "schema_version": 3,
          "solution": true,
          "task": false
        },
        "id": "db10495a"
      },
      "outputs": [],
      "source": [
        "# Task 5\n",
        "\n",
        "# YOUR CODE HERE\n",
        "#print(adult.isnull().sum())\n",
        "adult_missing = adult.isnull().sum().sum()"
      ]
    },
    {
      "cell_type": "markdown",
      "id": "6ba96b27",
      "metadata": {
        "deletable": false,
        "editable": false,
        "nbgrader": {
          "cell_type": "markdown",
          "checksum": "13908942b83244d0cf922bf7f2bc51c0",
          "grade": false,
          "grade_id": "cell-9d10b090447bd99d",
          "locked": true,
          "schema_version": 3,
          "solution": false,
          "task": false
        },
        "id": "6ba96b27"
      },
      "source": [
        "**Task 5 Test**"
      ]
    },
    {
      "cell_type": "code",
      "execution_count": 156,
      "id": "492e8693",
      "metadata": {
        "deletable": false,
        "editable": false,
        "nbgrader": {
          "cell_type": "code",
          "checksum": "6b7e01dec19be6d90eee51f66a75a29f",
          "grade": true,
          "grade_id": "cell-005d46af85b7d91b",
          "locked": true,
          "points": 1,
          "schema_version": 3,
          "solution": false,
          "task": false
        },
        "id": "492e8693"
      },
      "outputs": [],
      "source": [
        "# Task 5 - Test\n",
        "\n",
        "# Hidden tests - you will see the results when you submit to Canvas"
      ]
    },
    {
      "cell_type": "markdown",
      "id": "50c322c9",
      "metadata": {
        "deletable": false,
        "editable": false,
        "nbgrader": {
          "cell_type": "markdown",
          "checksum": "14e4f0738830667ebc594d7dad8fcef7",
          "grade": false,
          "grade_id": "cell-8f7d234f2d7cf277",
          "locked": true,
          "schema_version": 3,
          "solution": false,
          "task": false
        },
        "id": "50c322c9"
      },
      "source": [
        "**Task 6** - Viewing DataFrame statistics\n",
        "\n",
        "Let's look at some of the *summary statistics* of our dataset. We can use the .describe() function in order to see the summary statistics of the numeric columns.\n",
        "\n",
        "Look at the statistics for the `adult` DataFrame and then complete the following two tasks:\n",
        "\n",
        "* Find the value for the mean `age` and assign it to the variable `mean_age` (your value should be a float and defined to two decimal places)\n",
        "* Find the standard deviation (std) for the `hours-per-week` variable and assign it to `std_hpw` (your value should be a float and defined to two decimal places)\n",
        "\n",
        "Are there any values shown that might be a code for missing data?  We'll learn how to change the values in a DataFrame in the next module."
      ]
    },
    {
      "cell_type": "code",
      "execution_count": 157,
      "id": "d89e4ea5",
      "metadata": {
        "deletable": false,
        "nbgrader": {
          "cell_type": "code",
          "checksum": "121cc02d04a4cd219ccd43ef691ed78e",
          "grade": false,
          "grade_id": "cell-5dbc7144c66ecdec",
          "locked": false,
          "schema_version": 3,
          "solution": true,
          "task": false
        },
        "id": "d89e4ea5"
      },
      "outputs": [],
      "source": [
        "# Task 6\n",
        "\n",
        "# YOUR CODE HERE\n",
        "#adult.describe()\n",
        "mean_age = adult.describe()['age']['mean'].round(2)\n",
        "std_hpw = adult.describe()['hours-per-week']['std'].round(2)\n",
        "#print([mean_age, std_hpw])"
      ]
    },
    {
      "cell_type": "markdown",
      "id": "7ab1124e",
      "metadata": {
        "deletable": false,
        "editable": false,
        "nbgrader": {
          "cell_type": "markdown",
          "checksum": "e61f79cf5c1349dbd5bfca91ebdcde1a",
          "grade": false,
          "grade_id": "cell-abbb3d5086b1634c",
          "locked": true,
          "schema_version": 3,
          "solution": false,
          "task": false
        },
        "id": "7ab1124e"
      },
      "source": [
        "**Task 6 Test**"
      ]
    },
    {
      "cell_type": "code",
      "execution_count": 158,
      "id": "7ced746e",
      "metadata": {
        "deletable": false,
        "editable": false,
        "nbgrader": {
          "cell_type": "code",
          "checksum": "c8fa4bc61dbedf68d34a0cd863040e51",
          "grade": true,
          "grade_id": "cell-8cd8fc43cc8628af",
          "locked": true,
          "points": 1,
          "schema_version": 3,
          "solution": false,
          "task": false
        },
        "id": "7ced746e"
      },
      "outputs": [],
      "source": [
        "# Task 6 - Test\n",
        "\n",
        "# Hidden tests - you will see the results when you submit to Canvas"
      ]
    },
    {
      "cell_type": "markdown",
      "id": "8686e9ce",
      "metadata": {
        "deletable": false,
        "editable": false,
        "nbgrader": {
          "cell_type": "markdown",
          "checksum": "f9c256a5dea0119ee2809790969c1230",
          "grade": false,
          "grade_id": "cell-29e5648ab5ebe708",
          "locked": true,
          "schema_version": 3,
          "solution": false,
          "task": false
        },
        "id": "8686e9ce"
      },
      "source": [
        "**Task 7** - Summary statistics for non-numeric columns\n",
        "\n",
        "We have some columns in this dataset that are non-numeric or object columns. This is usually a string object. Let's use the `describe()` function again but include the argument `exclude='number'` to exclude the numeric columns.\n",
        "\n",
        "Using the results of `describe(exclude='number')`, complete the following two tasks:\n",
        "\n",
        "* Find the number of unique `education` values and assign it to `unique_edu` (your value should be an integer)\n",
        "* Find the number of times the most frequent observation for `income` occurs and assign it to `freq_income` (your value should be an integer) *(Note: this is not the income value itself, just how many times it occurs)*"
      ]
    },
    {
      "cell_type": "code",
      "execution_count": 159,
      "id": "7ed0c17f",
      "metadata": {
        "deletable": false,
        "nbgrader": {
          "cell_type": "code",
          "checksum": "ff39bebd109ca69a4f36d5fed7e2ec7b",
          "grade": false,
          "grade_id": "cell-7ed26707fcb247b0",
          "locked": false,
          "schema_version": 3,
          "solution": true,
          "task": false
        },
        "id": "7ed0c17f"
      },
      "outputs": [],
      "source": [
        "# Task 7\n",
        "\n",
        "# YOUR CODE HERE\n",
        "#print(adult.describe(exclude='number'))\n",
        "unique_edu = round(adult.describe(exclude='number')['education']['unique'])\n",
        "freq_income = round(adult.describe(exclude='number')['income']['freq'])\n",
        "#print(freq_income)"
      ]
    },
    {
      "cell_type": "markdown",
      "id": "5c27179d",
      "metadata": {
        "deletable": false,
        "editable": false,
        "nbgrader": {
          "cell_type": "markdown",
          "checksum": "3c1043218a62b2b45a2d0523ce6fdf09",
          "grade": false,
          "grade_id": "cell-333c954db06149e3",
          "locked": true,
          "schema_version": 3,
          "solution": false,
          "task": false
        },
        "id": "5c27179d"
      },
      "source": [
        "**Task 7 Test**"
      ]
    },
    {
      "cell_type": "code",
      "execution_count": 160,
      "id": "3c90f60e",
      "metadata": {
        "deletable": false,
        "editable": false,
        "nbgrader": {
          "cell_type": "code",
          "checksum": "727b904e22fe41b4d8b6b5d08438b808",
          "grade": true,
          "grade_id": "cell-ce1a0a4faf19dbfc",
          "locked": true,
          "points": 1,
          "schema_version": 3,
          "solution": false,
          "task": false
        },
        "id": "3c90f60e"
      },
      "outputs": [],
      "source": [
        "# Task 7 - Test\n",
        "\n",
        "# Hidden tests - you will see the results when you submit to Canvas"
      ]
    },
    {
      "cell_type": "markdown",
      "id": "9fdf28cc",
      "metadata": {
        "deletable": false,
        "editable": false,
        "nbgrader": {
          "cell_type": "markdown",
          "checksum": "961496f2b6a3ec1af486527a531c336c",
          "grade": false,
          "grade_id": "cell-93a95447c800d426",
          "locked": true,
          "schema_version": 3,
          "solution": false,
          "task": false
        },
        "id": "9fdf28cc"
      },
      "source": [
        "**Task 8** - Finding value counts\n",
        "\n",
        "Let's look more specifically at the `relationship` column and perform a count of the number of observations for each category. We can see how many categories we have by using the `.unique()` method on the column. Then, we can use `.value_counts()` to count the number of observations in each category.\n",
        "\n",
        "* View the unique values in the `relationship` column with `.unique()`\n",
        "* View the number of observations for each value with `.value_counts()`\n",
        "* Find the counts for `Other-relative` and assign to the variable `adult_other_rel`"
      ]
    },
    {
      "cell_type": "code",
      "execution_count": 168,
      "id": "7af9dbe6",
      "metadata": {
        "deletable": false,
        "nbgrader": {
          "cell_type": "code",
          "checksum": "edd0255d11dad13660bf9608687d9189",
          "grade": false,
          "grade_id": "cell-c273f89ae164b596",
          "locked": false,
          "schema_version": 3,
          "solution": true,
          "task": false
        },
        "id": "7af9dbe6",
        "colab": {
          "base_uri": "https://localhost:8080/"
        },
        "outputId": "51bc746b-5901-44f1-9e8a-4f137ebdb502"
      },
      "outputs": [
        {
          "output_type": "stream",
          "name": "stdout",
          "text": [
            "981\n"
          ]
        }
      ],
      "source": [
        "# Task 8\n",
        "\n",
        "# YOUR CODE HERE\n",
        "#adult.describe(exclude='number')\n",
        "adult['relationship'].unique()\n",
        "adult['relationship'].value_counts()\n",
        "adult['relationship'].value_counts().index\n",
        "adult_other_rel = adult['relationship'].value_counts()[' Other-relative'] #leading whitespace, the invsible killer\n",
        "#print(adult_other_rel)"
      ]
    },
    {
      "cell_type": "markdown",
      "id": "d6d63516",
      "metadata": {
        "deletable": false,
        "editable": false,
        "nbgrader": {
          "cell_type": "markdown",
          "checksum": "a133630b5432f501b74b1038f493184b",
          "grade": false,
          "grade_id": "cell-e6f65336b611ce4a",
          "locked": true,
          "schema_version": 3,
          "solution": false,
          "task": false
        },
        "id": "d6d63516"
      },
      "source": [
        "**Task 8 Test**"
      ]
    },
    {
      "cell_type": "code",
      "execution_count": 78,
      "id": "ecc4dc98",
      "metadata": {
        "deletable": false,
        "editable": false,
        "nbgrader": {
          "cell_type": "code",
          "checksum": "f90043d7073c76606335cb197010bf22",
          "grade": true,
          "grade_id": "cell-7e8ae1c1c164dc92",
          "locked": true,
          "points": 1,
          "schema_version": 3,
          "solution": false,
          "task": false
        },
        "id": "ecc4dc98"
      },
      "outputs": [],
      "source": [
        "# Task 8 - Test\n",
        "\n",
        "# Hidden tests - you will see the results when you submit to Canvas"
      ]
    },
    {
      "cell_type": "markdown",
      "id": "a472bbe4",
      "metadata": {
        "deletable": false,
        "editable": false,
        "nbgrader": {
          "cell_type": "markdown",
          "checksum": "21d6201eedae965efcab4dfbb23a7668",
          "grade": false,
          "grade_id": "cell-7757ad0c5883eafd",
          "locked": true,
          "schema_version": 3,
          "solution": false,
          "task": false
        },
        "id": "a472bbe4"
      },
      "source": [
        "**Task 9** - Create a Series\n",
        "\n",
        "A column of a DataFrame is a pandas Series. Using the `adult` DataFrame, create a Series from the `occupation` column.\n",
        "\n",
        "* Create a Series from the `occupation` column and name it `adult_occup`"
      ]
    },
    {
      "cell_type": "code",
      "execution_count": 81,
      "id": "ad815c06",
      "metadata": {
        "deletable": false,
        "nbgrader": {
          "cell_type": "code",
          "checksum": "7b8e3e4cf4f8f719d55a231ddf622402",
          "grade": false,
          "grade_id": "cell-adbc8e3353d9e266",
          "locked": false,
          "schema_version": 3,
          "solution": true,
          "task": false
        },
        "id": "ad815c06"
      },
      "outputs": [],
      "source": [
        "# Task 9\n",
        "\n",
        "# YOUR CODE HERE\n",
        "adult_occup = adult.get('occupation')"
      ]
    },
    {
      "cell_type": "markdown",
      "id": "9e403f69",
      "metadata": {
        "deletable": false,
        "editable": false,
        "nbgrader": {
          "cell_type": "markdown",
          "checksum": "fd0c155dbf1a911a4f7bf7be62957273",
          "grade": false,
          "grade_id": "cell-cf4af4930092c649",
          "locked": true,
          "schema_version": 3,
          "solution": false,
          "task": false
        },
        "id": "9e403f69"
      },
      "source": [
        "**Task 9 Test**"
      ]
    },
    {
      "cell_type": "code",
      "execution_count": 82,
      "id": "92b13510",
      "metadata": {
        "deletable": false,
        "editable": false,
        "nbgrader": {
          "cell_type": "code",
          "checksum": "7c52edd5525d9d45036d9811d887c22d",
          "grade": true,
          "grade_id": "cell-716ff49cd4887f23",
          "locked": true,
          "points": 1,
          "schema_version": 3,
          "solution": false,
          "task": false
        },
        "id": "92b13510"
      },
      "outputs": [],
      "source": [
        "# Task 9 - Test\n",
        "\n",
        "# These tests are for you to check your work before submitting\n",
        "assert isinstance(adult_occup, pd.Series), 'Have you created the correct Series?'\n",
        "\n",
        "# Hidden tests - you will see the results when you submit to Canvas"
      ]
    },
    {
      "cell_type": "markdown",
      "id": "a06120bd",
      "metadata": {
        "deletable": false,
        "editable": false,
        "nbgrader": {
          "cell_type": "markdown",
          "checksum": "981a9efdbae571275134492a6742a10b",
          "grade": false,
          "grade_id": "cell-cc5cabdf6b9aeb4f",
          "locked": true,
          "schema_version": 3,
          "solution": false,
          "task": false
        },
        "id": "a06120bd"
      },
      "source": [
        "## Feature Creation\n",
        "\n",
        "Next you will focus on learning how to create new features from exisiting data. There are many ways to create features in your datasets; we'll only focus on a few here. Let's get started!"
      ]
    },
    {
      "cell_type": "markdown",
      "id": "e875cd66",
      "metadata": {
        "deletable": false,
        "editable": false,
        "nbgrader": {
          "cell_type": "markdown",
          "checksum": "cba26c58249aa59f6c6313256b3b5cec",
          "grade": false,
          "grade_id": "cell-2aeba7d5fa08564b",
          "locked": true,
          "schema_version": 3,
          "solution": false,
          "task": false
        },
        "id": "e875cd66"
      },
      "source": [
        "**Task 10** - Load the data set\n",
        "\n",
        "* Using the provided URL, load the Ames Housing Data into a DataFrame called `house`\n",
        "* View your DataFrame"
      ]
    },
    {
      "cell_type": "code",
      "execution_count": 95,
      "id": "384ba545",
      "metadata": {
        "deletable": false,
        "nbgrader": {
          "cell_type": "code",
          "checksum": "47f28df73400fcb773a0a1f6c68a51e8",
          "grade": false,
          "grade_id": "cell-76a11348650ab4bd",
          "locked": false,
          "schema_version": 3,
          "solution": true,
          "task": false
        },
        "id": "384ba545",
        "colab": {
          "base_uri": "https://localhost:8080/",
          "height": 394
        },
        "outputId": "520daaf7-a030-47b3-d58a-34a65c41eb6e"
      },
      "outputs": [
        {
          "output_type": "execute_result",
          "data": {
            "text/plain": [
              "                Id   MSSubClass  LotFrontage        LotArea  OverallQual  \\\n",
              "count  1460.000000  1460.000000  1201.000000    1460.000000  1460.000000   \n",
              "mean    730.500000    56.897260    70.049958   10516.828082     6.099315   \n",
              "std     421.610009    42.300571    24.284752    9981.264932     1.382997   \n",
              "min       1.000000    20.000000    21.000000    1300.000000     1.000000   \n",
              "25%     365.750000    20.000000    59.000000    7553.500000     5.000000   \n",
              "50%     730.500000    50.000000    69.000000    9478.500000     6.000000   \n",
              "75%    1095.250000    70.000000    80.000000   11601.500000     7.000000   \n",
              "max    1460.000000   190.000000   313.000000  215245.000000    10.000000   \n",
              "\n",
              "       OverallCond    YearBuilt  YearRemodAdd   MasVnrArea   BsmtFinSF1  ...  \\\n",
              "count  1460.000000  1460.000000   1460.000000  1452.000000  1460.000000  ...   \n",
              "mean      5.575342  1971.267808   1984.865753   103.685262   443.639726  ...   \n",
              "std       1.112799    30.202904     20.645407   181.066207   456.098091  ...   \n",
              "min       1.000000  1872.000000   1950.000000     0.000000     0.000000  ...   \n",
              "25%       5.000000  1954.000000   1967.000000     0.000000     0.000000  ...   \n",
              "50%       5.000000  1973.000000   1994.000000     0.000000   383.500000  ...   \n",
              "75%       6.000000  2000.000000   2004.000000   166.000000   712.250000  ...   \n",
              "max       9.000000  2010.000000   2010.000000  1600.000000  5644.000000  ...   \n",
              "\n",
              "        WoodDeckSF  OpenPorchSF  EnclosedPorch    3SsnPorch  ScreenPorch  \\\n",
              "count  1460.000000  1460.000000    1460.000000  1460.000000  1460.000000   \n",
              "mean     94.244521    46.660274      21.954110     3.409589    15.060959   \n",
              "std     125.338794    66.256028      61.119149    29.317331    55.757415   \n",
              "min       0.000000     0.000000       0.000000     0.000000     0.000000   \n",
              "25%       0.000000     0.000000       0.000000     0.000000     0.000000   \n",
              "50%       0.000000    25.000000       0.000000     0.000000     0.000000   \n",
              "75%     168.000000    68.000000       0.000000     0.000000     0.000000   \n",
              "max     857.000000   547.000000     552.000000   508.000000   480.000000   \n",
              "\n",
              "          PoolArea       MiscVal       MoSold       YrSold      SalePrice  \n",
              "count  1460.000000   1460.000000  1460.000000  1460.000000    1460.000000  \n",
              "mean      2.758904     43.489041     6.321918  2007.815753  180921.195890  \n",
              "std      40.177307    496.123024     2.703626     1.328095   79442.502883  \n",
              "min       0.000000      0.000000     1.000000  2006.000000   34900.000000  \n",
              "25%       0.000000      0.000000     5.000000  2007.000000  129975.000000  \n",
              "50%       0.000000      0.000000     6.000000  2008.000000  163000.000000  \n",
              "75%       0.000000      0.000000     8.000000  2009.000000  214000.000000  \n",
              "max     738.000000  15500.000000    12.000000  2010.000000  755000.000000  \n",
              "\n",
              "[8 rows x 38 columns]"
            ],
            "text/html": [
              "\n",
              "  <div id=\"df-302c8676-b037-42eb-b046-0f10c6b7b1d3\">\n",
              "    <div class=\"colab-df-container\">\n",
              "      <div>\n",
              "<style scoped>\n",
              "    .dataframe tbody tr th:only-of-type {\n",
              "        vertical-align: middle;\n",
              "    }\n",
              "\n",
              "    .dataframe tbody tr th {\n",
              "        vertical-align: top;\n",
              "    }\n",
              "\n",
              "    .dataframe thead th {\n",
              "        text-align: right;\n",
              "    }\n",
              "</style>\n",
              "<table border=\"1\" class=\"dataframe\">\n",
              "  <thead>\n",
              "    <tr style=\"text-align: right;\">\n",
              "      <th></th>\n",
              "      <th>Id</th>\n",
              "      <th>MSSubClass</th>\n",
              "      <th>LotFrontage</th>\n",
              "      <th>LotArea</th>\n",
              "      <th>OverallQual</th>\n",
              "      <th>OverallCond</th>\n",
              "      <th>YearBuilt</th>\n",
              "      <th>YearRemodAdd</th>\n",
              "      <th>MasVnrArea</th>\n",
              "      <th>BsmtFinSF1</th>\n",
              "      <th>...</th>\n",
              "      <th>WoodDeckSF</th>\n",
              "      <th>OpenPorchSF</th>\n",
              "      <th>EnclosedPorch</th>\n",
              "      <th>3SsnPorch</th>\n",
              "      <th>ScreenPorch</th>\n",
              "      <th>PoolArea</th>\n",
              "      <th>MiscVal</th>\n",
              "      <th>MoSold</th>\n",
              "      <th>YrSold</th>\n",
              "      <th>SalePrice</th>\n",
              "    </tr>\n",
              "  </thead>\n",
              "  <tbody>\n",
              "    <tr>\n",
              "      <th>count</th>\n",
              "      <td>1460.000000</td>\n",
              "      <td>1460.000000</td>\n",
              "      <td>1201.000000</td>\n",
              "      <td>1460.000000</td>\n",
              "      <td>1460.000000</td>\n",
              "      <td>1460.000000</td>\n",
              "      <td>1460.000000</td>\n",
              "      <td>1460.000000</td>\n",
              "      <td>1452.000000</td>\n",
              "      <td>1460.000000</td>\n",
              "      <td>...</td>\n",
              "      <td>1460.000000</td>\n",
              "      <td>1460.000000</td>\n",
              "      <td>1460.000000</td>\n",
              "      <td>1460.000000</td>\n",
              "      <td>1460.000000</td>\n",
              "      <td>1460.000000</td>\n",
              "      <td>1460.000000</td>\n",
              "      <td>1460.000000</td>\n",
              "      <td>1460.000000</td>\n",
              "      <td>1460.000000</td>\n",
              "    </tr>\n",
              "    <tr>\n",
              "      <th>mean</th>\n",
              "      <td>730.500000</td>\n",
              "      <td>56.897260</td>\n",
              "      <td>70.049958</td>\n",
              "      <td>10516.828082</td>\n",
              "      <td>6.099315</td>\n",
              "      <td>5.575342</td>\n",
              "      <td>1971.267808</td>\n",
              "      <td>1984.865753</td>\n",
              "      <td>103.685262</td>\n",
              "      <td>443.639726</td>\n",
              "      <td>...</td>\n",
              "      <td>94.244521</td>\n",
              "      <td>46.660274</td>\n",
              "      <td>21.954110</td>\n",
              "      <td>3.409589</td>\n",
              "      <td>15.060959</td>\n",
              "      <td>2.758904</td>\n",
              "      <td>43.489041</td>\n",
              "      <td>6.321918</td>\n",
              "      <td>2007.815753</td>\n",
              "      <td>180921.195890</td>\n",
              "    </tr>\n",
              "    <tr>\n",
              "      <th>std</th>\n",
              "      <td>421.610009</td>\n",
              "      <td>42.300571</td>\n",
              "      <td>24.284752</td>\n",
              "      <td>9981.264932</td>\n",
              "      <td>1.382997</td>\n",
              "      <td>1.112799</td>\n",
              "      <td>30.202904</td>\n",
              "      <td>20.645407</td>\n",
              "      <td>181.066207</td>\n",
              "      <td>456.098091</td>\n",
              "      <td>...</td>\n",
              "      <td>125.338794</td>\n",
              "      <td>66.256028</td>\n",
              "      <td>61.119149</td>\n",
              "      <td>29.317331</td>\n",
              "      <td>55.757415</td>\n",
              "      <td>40.177307</td>\n",
              "      <td>496.123024</td>\n",
              "      <td>2.703626</td>\n",
              "      <td>1.328095</td>\n",
              "      <td>79442.502883</td>\n",
              "    </tr>\n",
              "    <tr>\n",
              "      <th>min</th>\n",
              "      <td>1.000000</td>\n",
              "      <td>20.000000</td>\n",
              "      <td>21.000000</td>\n",
              "      <td>1300.000000</td>\n",
              "      <td>1.000000</td>\n",
              "      <td>1.000000</td>\n",
              "      <td>1872.000000</td>\n",
              "      <td>1950.000000</td>\n",
              "      <td>0.000000</td>\n",
              "      <td>0.000000</td>\n",
              "      <td>...</td>\n",
              "      <td>0.000000</td>\n",
              "      <td>0.000000</td>\n",
              "      <td>0.000000</td>\n",
              "      <td>0.000000</td>\n",
              "      <td>0.000000</td>\n",
              "      <td>0.000000</td>\n",
              "      <td>0.000000</td>\n",
              "      <td>1.000000</td>\n",
              "      <td>2006.000000</td>\n",
              "      <td>34900.000000</td>\n",
              "    </tr>\n",
              "    <tr>\n",
              "      <th>25%</th>\n",
              "      <td>365.750000</td>\n",
              "      <td>20.000000</td>\n",
              "      <td>59.000000</td>\n",
              "      <td>7553.500000</td>\n",
              "      <td>5.000000</td>\n",
              "      <td>5.000000</td>\n",
              "      <td>1954.000000</td>\n",
              "      <td>1967.000000</td>\n",
              "      <td>0.000000</td>\n",
              "      <td>0.000000</td>\n",
              "      <td>...</td>\n",
              "      <td>0.000000</td>\n",
              "      <td>0.000000</td>\n",
              "      <td>0.000000</td>\n",
              "      <td>0.000000</td>\n",
              "      <td>0.000000</td>\n",
              "      <td>0.000000</td>\n",
              "      <td>0.000000</td>\n",
              "      <td>5.000000</td>\n",
              "      <td>2007.000000</td>\n",
              "      <td>129975.000000</td>\n",
              "    </tr>\n",
              "    <tr>\n",
              "      <th>50%</th>\n",
              "      <td>730.500000</td>\n",
              "      <td>50.000000</td>\n",
              "      <td>69.000000</td>\n",
              "      <td>9478.500000</td>\n",
              "      <td>6.000000</td>\n",
              "      <td>5.000000</td>\n",
              "      <td>1973.000000</td>\n",
              "      <td>1994.000000</td>\n",
              "      <td>0.000000</td>\n",
              "      <td>383.500000</td>\n",
              "      <td>...</td>\n",
              "      <td>0.000000</td>\n",
              "      <td>25.000000</td>\n",
              "      <td>0.000000</td>\n",
              "      <td>0.000000</td>\n",
              "      <td>0.000000</td>\n",
              "      <td>0.000000</td>\n",
              "      <td>0.000000</td>\n",
              "      <td>6.000000</td>\n",
              "      <td>2008.000000</td>\n",
              "      <td>163000.000000</td>\n",
              "    </tr>\n",
              "    <tr>\n",
              "      <th>75%</th>\n",
              "      <td>1095.250000</td>\n",
              "      <td>70.000000</td>\n",
              "      <td>80.000000</td>\n",
              "      <td>11601.500000</td>\n",
              "      <td>7.000000</td>\n",
              "      <td>6.000000</td>\n",
              "      <td>2000.000000</td>\n",
              "      <td>2004.000000</td>\n",
              "      <td>166.000000</td>\n",
              "      <td>712.250000</td>\n",
              "      <td>...</td>\n",
              "      <td>168.000000</td>\n",
              "      <td>68.000000</td>\n",
              "      <td>0.000000</td>\n",
              "      <td>0.000000</td>\n",
              "      <td>0.000000</td>\n",
              "      <td>0.000000</td>\n",
              "      <td>0.000000</td>\n",
              "      <td>8.000000</td>\n",
              "      <td>2009.000000</td>\n",
              "      <td>214000.000000</td>\n",
              "    </tr>\n",
              "    <tr>\n",
              "      <th>max</th>\n",
              "      <td>1460.000000</td>\n",
              "      <td>190.000000</td>\n",
              "      <td>313.000000</td>\n",
              "      <td>215245.000000</td>\n",
              "      <td>10.000000</td>\n",
              "      <td>9.000000</td>\n",
              "      <td>2010.000000</td>\n",
              "      <td>2010.000000</td>\n",
              "      <td>1600.000000</td>\n",
              "      <td>5644.000000</td>\n",
              "      <td>...</td>\n",
              "      <td>857.000000</td>\n",
              "      <td>547.000000</td>\n",
              "      <td>552.000000</td>\n",
              "      <td>508.000000</td>\n",
              "      <td>480.000000</td>\n",
              "      <td>738.000000</td>\n",
              "      <td>15500.000000</td>\n",
              "      <td>12.000000</td>\n",
              "      <td>2010.000000</td>\n",
              "      <td>755000.000000</td>\n",
              "    </tr>\n",
              "  </tbody>\n",
              "</table>\n",
              "<p>8 rows × 38 columns</p>\n",
              "</div>\n",
              "      <button class=\"colab-df-convert\" onclick=\"convertToInteractive('df-302c8676-b037-42eb-b046-0f10c6b7b1d3')\"\n",
              "              title=\"Convert this dataframe to an interactive table.\"\n",
              "              style=\"display:none;\">\n",
              "        \n",
              "  <svg xmlns=\"http://www.w3.org/2000/svg\" height=\"24px\"viewBox=\"0 0 24 24\"\n",
              "       width=\"24px\">\n",
              "    <path d=\"M0 0h24v24H0V0z\" fill=\"none\"/>\n",
              "    <path d=\"M18.56 5.44l.94 2.06.94-2.06 2.06-.94-2.06-.94-.94-2.06-.94 2.06-2.06.94zm-11 1L8.5 8.5l.94-2.06 2.06-.94-2.06-.94L8.5 2.5l-.94 2.06-2.06.94zm10 10l.94 2.06.94-2.06 2.06-.94-2.06-.94-.94-2.06-.94 2.06-2.06.94z\"/><path d=\"M17.41 7.96l-1.37-1.37c-.4-.4-.92-.59-1.43-.59-.52 0-1.04.2-1.43.59L10.3 9.45l-7.72 7.72c-.78.78-.78 2.05 0 2.83L4 21.41c.39.39.9.59 1.41.59.51 0 1.02-.2 1.41-.59l7.78-7.78 2.81-2.81c.8-.78.8-2.07 0-2.86zM5.41 20L4 18.59l7.72-7.72 1.47 1.35L5.41 20z\"/>\n",
              "  </svg>\n",
              "      </button>\n",
              "      \n",
              "  <style>\n",
              "    .colab-df-container {\n",
              "      display:flex;\n",
              "      flex-wrap:wrap;\n",
              "      gap: 12px;\n",
              "    }\n",
              "\n",
              "    .colab-df-convert {\n",
              "      background-color: #E8F0FE;\n",
              "      border: none;\n",
              "      border-radius: 50%;\n",
              "      cursor: pointer;\n",
              "      display: none;\n",
              "      fill: #1967D2;\n",
              "      height: 32px;\n",
              "      padding: 0 0 0 0;\n",
              "      width: 32px;\n",
              "    }\n",
              "\n",
              "    .colab-df-convert:hover {\n",
              "      background-color: #E2EBFA;\n",
              "      box-shadow: 0px 1px 2px rgba(60, 64, 67, 0.3), 0px 1px 3px 1px rgba(60, 64, 67, 0.15);\n",
              "      fill: #174EA6;\n",
              "    }\n",
              "\n",
              "    [theme=dark] .colab-df-convert {\n",
              "      background-color: #3B4455;\n",
              "      fill: #D2E3FC;\n",
              "    }\n",
              "\n",
              "    [theme=dark] .colab-df-convert:hover {\n",
              "      background-color: #434B5C;\n",
              "      box-shadow: 0px 1px 3px 1px rgba(0, 0, 0, 0.15);\n",
              "      filter: drop-shadow(0px 1px 2px rgba(0, 0, 0, 0.3));\n",
              "      fill: #FFFFFF;\n",
              "    }\n",
              "  </style>\n",
              "\n",
              "      <script>\n",
              "        const buttonEl =\n",
              "          document.querySelector('#df-302c8676-b037-42eb-b046-0f10c6b7b1d3 button.colab-df-convert');\n",
              "        buttonEl.style.display =\n",
              "          google.colab.kernel.accessAllowed ? 'block' : 'none';\n",
              "\n",
              "        async function convertToInteractive(key) {\n",
              "          const element = document.querySelector('#df-302c8676-b037-42eb-b046-0f10c6b7b1d3');\n",
              "          const dataTable =\n",
              "            await google.colab.kernel.invokeFunction('convertToInteractive',\n",
              "                                                     [key], {});\n",
              "          if (!dataTable) return;\n",
              "\n",
              "          const docLinkHtml = 'Like what you see? Visit the ' +\n",
              "            '<a target=\"_blank\" href=https://colab.research.google.com/notebooks/data_table.ipynb>data table notebook</a>'\n",
              "            + ' to learn more about interactive tables.';\n",
              "          element.innerHTML = '';\n",
              "          dataTable['output_type'] = 'display_data';\n",
              "          await google.colab.output.renderOutput(dataTable, element);\n",
              "          const docLink = document.createElement('div');\n",
              "          docLink.innerHTML = docLinkHtml;\n",
              "          element.appendChild(docLink);\n",
              "        }\n",
              "      </script>\n",
              "    </div>\n",
              "  </div>\n",
              "  "
            ]
          },
          "metadata": {},
          "execution_count": 95
        }
      ],
      "source": [
        "from pandas.io.parsers.readers import read_csv\n",
        "# Task 10\n",
        "\n",
        "# Imports\n",
        "import pandas as pd\n",
        "\n",
        "# Dataset URL\n",
        "\n",
        "data_url = 'https://raw.githubusercontent.com/LambdaSchool/data-science-practice-datasets/main/unit_1/Housing/Ames%20Iowa%20Housing%20Data.csv'\n",
        "\n",
        "# YOUR CODE HERE\n",
        "house = read_csv(data_url)\n",
        "\n",
        "# View your DataFrame\n",
        "house.describe()"
      ]
    },
    {
      "cell_type": "markdown",
      "id": "f20bfef9",
      "metadata": {
        "deletable": false,
        "editable": false,
        "nbgrader": {
          "cell_type": "markdown",
          "checksum": "e5c86e21164c014a5ab2e4b257cbca91",
          "grade": false,
          "grade_id": "cell-1295ce65e73ae9a0",
          "locked": true,
          "schema_version": 3,
          "solution": false,
          "task": false
        },
        "id": "f20bfef9"
      },
      "source": [
        "**Task 10 Test**"
      ]
    },
    {
      "cell_type": "code",
      "execution_count": 96,
      "id": "7e627c84",
      "metadata": {
        "deletable": false,
        "editable": false,
        "nbgrader": {
          "cell_type": "code",
          "checksum": "cd2b9d54f69d80e1d07aef4651cae642",
          "grade": true,
          "grade_id": "cell-851854e034a68c08",
          "locked": true,
          "points": 1,
          "schema_version": 3,
          "solution": false,
          "task": false
        },
        "id": "7e627c84"
      },
      "outputs": [],
      "source": [
        "# Task 10 - Test\n",
        "\n",
        "# These tests are for you to check your work before submitting\n",
        "assert isinstance(house, pd.DataFrame), 'Have you created a DataFrame named house?'\n",
        "\n",
        "# Hidden tests - you'll see results when you submit to Canvas"
      ]
    },
    {
      "cell_type": "markdown",
      "id": "a09761e0",
      "metadata": {
        "deletable": false,
        "editable": false,
        "nbgrader": {
          "cell_type": "markdown",
          "checksum": "e5ca19cfe75343032197bbc711a34e95",
          "grade": false,
          "grade_id": "cell-62001ed423d52c26",
          "locked": true,
          "schema_version": 3,
          "solution": false,
          "task": false
        },
        "id": "a09761e0"
      },
      "source": [
        "**Task 11** - Create a new feature\n",
        "\n",
        "Now that we have the data loaded, we're going to create a new feature. We can use the some of the existing features, in this case, the total number of bathrooms in one column.\n",
        "\n",
        "* Create a new variable called `Total_Bathrooms` that contains the total number of full and half bathrooms in the house.  \n",
        "\n",
        "*Hint: Identify all the columns with bath in the title and add their values together. There are four columns to add together.  Add one to the total for each full or half bathroom.*"
      ]
    },
    {
      "cell_type": "code",
      "execution_count": 97,
      "id": "ba9958f6",
      "metadata": {
        "deletable": false,
        "nbgrader": {
          "cell_type": "code",
          "checksum": "397522f2b4d7e8e60dd9cfeb90fc3304",
          "grade": false,
          "grade_id": "cell-3ea6009bc1f45cc9",
          "locked": false,
          "schema_version": 3,
          "solution": true,
          "task": false
        },
        "id": "ba9958f6"
      },
      "outputs": [],
      "source": [
        "# Task 11\n",
        "\n",
        "# YOUR CODE HERE\n",
        "#print(house.columns)\n",
        "house['Total_Bathrooms'] = house['FullBath'] + house['HalfBath'] + house['BsmtHalfBath'] + house['BsmtFullBath']"
      ]
    },
    {
      "cell_type": "markdown",
      "id": "d8ec48ee",
      "metadata": {
        "deletable": false,
        "editable": false,
        "nbgrader": {
          "cell_type": "markdown",
          "checksum": "c48d786fc30b30d2c164dc053742e8a0",
          "grade": false,
          "grade_id": "cell-799b70e4242d35f9",
          "locked": true,
          "schema_version": 3,
          "solution": false,
          "task": false
        },
        "id": "d8ec48ee"
      },
      "source": [
        "**Task 11 Test**"
      ]
    },
    {
      "cell_type": "code",
      "execution_count": 98,
      "id": "62defc22",
      "metadata": {
        "deletable": false,
        "editable": false,
        "nbgrader": {
          "cell_type": "code",
          "checksum": "c5e8420f6668ac14f58fbcfff25c3018",
          "grade": true,
          "grade_id": "cell-7505e6a0d5830f94",
          "locked": true,
          "points": 1,
          "schema_version": 3,
          "solution": false,
          "task": false
        },
        "id": "62defc22",
        "colab": {
          "base_uri": "https://localhost:8080/",
          "height": 206
        },
        "outputId": "b666b6d4-3557-4ab5-a817-cad39e977dcb"
      },
      "outputs": [
        {
          "output_type": "execute_result",
          "data": {
            "text/plain": [
              "   Total_Bathrooms  BsmtFullBath  BsmtHalfBath  FullBath  HalfBath\n",
              "0                4             1             0         2         1\n",
              "1                3             0             1         2         0\n",
              "2                4             1             0         2         1\n",
              "3                2             1             0         1         0\n",
              "4                4             1             0         2         1"
            ],
            "text/html": [
              "\n",
              "  <div id=\"df-1879ebe2-8f50-471d-b616-b99563d369a6\">\n",
              "    <div class=\"colab-df-container\">\n",
              "      <div>\n",
              "<style scoped>\n",
              "    .dataframe tbody tr th:only-of-type {\n",
              "        vertical-align: middle;\n",
              "    }\n",
              "\n",
              "    .dataframe tbody tr th {\n",
              "        vertical-align: top;\n",
              "    }\n",
              "\n",
              "    .dataframe thead th {\n",
              "        text-align: right;\n",
              "    }\n",
              "</style>\n",
              "<table border=\"1\" class=\"dataframe\">\n",
              "  <thead>\n",
              "    <tr style=\"text-align: right;\">\n",
              "      <th></th>\n",
              "      <th>Total_Bathrooms</th>\n",
              "      <th>BsmtFullBath</th>\n",
              "      <th>BsmtHalfBath</th>\n",
              "      <th>FullBath</th>\n",
              "      <th>HalfBath</th>\n",
              "    </tr>\n",
              "  </thead>\n",
              "  <tbody>\n",
              "    <tr>\n",
              "      <th>0</th>\n",
              "      <td>4</td>\n",
              "      <td>1</td>\n",
              "      <td>0</td>\n",
              "      <td>2</td>\n",
              "      <td>1</td>\n",
              "    </tr>\n",
              "    <tr>\n",
              "      <th>1</th>\n",
              "      <td>3</td>\n",
              "      <td>0</td>\n",
              "      <td>1</td>\n",
              "      <td>2</td>\n",
              "      <td>0</td>\n",
              "    </tr>\n",
              "    <tr>\n",
              "      <th>2</th>\n",
              "      <td>4</td>\n",
              "      <td>1</td>\n",
              "      <td>0</td>\n",
              "      <td>2</td>\n",
              "      <td>1</td>\n",
              "    </tr>\n",
              "    <tr>\n",
              "      <th>3</th>\n",
              "      <td>2</td>\n",
              "      <td>1</td>\n",
              "      <td>0</td>\n",
              "      <td>1</td>\n",
              "      <td>0</td>\n",
              "    </tr>\n",
              "    <tr>\n",
              "      <th>4</th>\n",
              "      <td>4</td>\n",
              "      <td>1</td>\n",
              "      <td>0</td>\n",
              "      <td>2</td>\n",
              "      <td>1</td>\n",
              "    </tr>\n",
              "  </tbody>\n",
              "</table>\n",
              "</div>\n",
              "      <button class=\"colab-df-convert\" onclick=\"convertToInteractive('df-1879ebe2-8f50-471d-b616-b99563d369a6')\"\n",
              "              title=\"Convert this dataframe to an interactive table.\"\n",
              "              style=\"display:none;\">\n",
              "        \n",
              "  <svg xmlns=\"http://www.w3.org/2000/svg\" height=\"24px\"viewBox=\"0 0 24 24\"\n",
              "       width=\"24px\">\n",
              "    <path d=\"M0 0h24v24H0V0z\" fill=\"none\"/>\n",
              "    <path d=\"M18.56 5.44l.94 2.06.94-2.06 2.06-.94-2.06-.94-.94-2.06-.94 2.06-2.06.94zm-11 1L8.5 8.5l.94-2.06 2.06-.94-2.06-.94L8.5 2.5l-.94 2.06-2.06.94zm10 10l.94 2.06.94-2.06 2.06-.94-2.06-.94-.94-2.06-.94 2.06-2.06.94z\"/><path d=\"M17.41 7.96l-1.37-1.37c-.4-.4-.92-.59-1.43-.59-.52 0-1.04.2-1.43.59L10.3 9.45l-7.72 7.72c-.78.78-.78 2.05 0 2.83L4 21.41c.39.39.9.59 1.41.59.51 0 1.02-.2 1.41-.59l7.78-7.78 2.81-2.81c.8-.78.8-2.07 0-2.86zM5.41 20L4 18.59l7.72-7.72 1.47 1.35L5.41 20z\"/>\n",
              "  </svg>\n",
              "      </button>\n",
              "      \n",
              "  <style>\n",
              "    .colab-df-container {\n",
              "      display:flex;\n",
              "      flex-wrap:wrap;\n",
              "      gap: 12px;\n",
              "    }\n",
              "\n",
              "    .colab-df-convert {\n",
              "      background-color: #E8F0FE;\n",
              "      border: none;\n",
              "      border-radius: 50%;\n",
              "      cursor: pointer;\n",
              "      display: none;\n",
              "      fill: #1967D2;\n",
              "      height: 32px;\n",
              "      padding: 0 0 0 0;\n",
              "      width: 32px;\n",
              "    }\n",
              "\n",
              "    .colab-df-convert:hover {\n",
              "      background-color: #E2EBFA;\n",
              "      box-shadow: 0px 1px 2px rgba(60, 64, 67, 0.3), 0px 1px 3px 1px rgba(60, 64, 67, 0.15);\n",
              "      fill: #174EA6;\n",
              "    }\n",
              "\n",
              "    [theme=dark] .colab-df-convert {\n",
              "      background-color: #3B4455;\n",
              "      fill: #D2E3FC;\n",
              "    }\n",
              "\n",
              "    [theme=dark] .colab-df-convert:hover {\n",
              "      background-color: #434B5C;\n",
              "      box-shadow: 0px 1px 3px 1px rgba(0, 0, 0, 0.15);\n",
              "      filter: drop-shadow(0px 1px 2px rgba(0, 0, 0, 0.3));\n",
              "      fill: #FFFFFF;\n",
              "    }\n",
              "  </style>\n",
              "\n",
              "      <script>\n",
              "        const buttonEl =\n",
              "          document.querySelector('#df-1879ebe2-8f50-471d-b616-b99563d369a6 button.colab-df-convert');\n",
              "        buttonEl.style.display =\n",
              "          google.colab.kernel.accessAllowed ? 'block' : 'none';\n",
              "\n",
              "        async function convertToInteractive(key) {\n",
              "          const element = document.querySelector('#df-1879ebe2-8f50-471d-b616-b99563d369a6');\n",
              "          const dataTable =\n",
              "            await google.colab.kernel.invokeFunction('convertToInteractive',\n",
              "                                                     [key], {});\n",
              "          if (!dataTable) return;\n",
              "\n",
              "          const docLinkHtml = 'Like what you see? Visit the ' +\n",
              "            '<a target=\"_blank\" href=https://colab.research.google.com/notebooks/data_table.ipynb>data table notebook</a>'\n",
              "            + ' to learn more about interactive tables.';\n",
              "          element.innerHTML = '';\n",
              "          dataTable['output_type'] = 'display_data';\n",
              "          await google.colab.output.renderOutput(dataTable, element);\n",
              "          const docLink = document.createElement('div');\n",
              "          docLink.innerHTML = docLinkHtml;\n",
              "          element.appendChild(docLink);\n",
              "        }\n",
              "      </script>\n",
              "    </div>\n",
              "  </div>\n",
              "  "
            ]
          },
          "metadata": {},
          "execution_count": 98
        }
      ],
      "source": [
        "# Task 11 - Test\n",
        "\n",
        "assert 'Total_Bathrooms' in house.columns, 'Did you add the new column?'\n",
        "\n",
        "# Hidden tests - you'll see results when you submit to Canvas\n",
        "\n",
        "# View all the bathroom columns\n",
        "house[['Total_Bathrooms','BsmtFullBath','BsmtHalfBath','FullBath','HalfBath']].head()"
      ]
    },
    {
      "cell_type": "markdown",
      "id": "1f3ee079",
      "metadata": {
        "deletable": false,
        "editable": false,
        "nbgrader": {
          "cell_type": "markdown",
          "checksum": "26bd744332aef92d4e1fcb392c5070ab",
          "grade": false,
          "grade_id": "cell-27b8ba311ede53f5",
          "locked": true,
          "schema_version": 3,
          "solution": false,
          "task": false
        },
        "id": "1f3ee079"
      },
      "source": [
        "**Task 12** - Create a new feature column\n",
        "\n",
        "Next we're going to create another new column by \"encoding\" an existing column. Using the `LotArea` column, we'll assign values according the the area of the lot.\n",
        "\n",
        "* Create a new column called `Large_Lot` that takes on the following values:\n",
        "    * 0 when `LotArea` is **less** than 10,000\n",
        "    * 1 when `LotArea` is **greater than or equal** to 10,000\n",
        "    "
      ]
    },
    {
      "cell_type": "code",
      "execution_count": 101,
      "id": "ec9345e3",
      "metadata": {
        "deletable": false,
        "nbgrader": {
          "cell_type": "code",
          "checksum": "bdb7d31d8b302c0ee0fe07239cb2e1f2",
          "grade": false,
          "grade_id": "cell-f1cf383f1e791f0a",
          "locked": false,
          "schema_version": 3,
          "solution": true,
          "task": false
        },
        "id": "ec9345e3"
      },
      "outputs": [],
      "source": [
        "# Task 12\n",
        "\n",
        "# YOUR CODE HERE\n",
        "house.loc[house['LotArea'] >= 10000, 'Large_Lot'] = 1\n",
        "house.loc[house['LotArea'] < 10000, 'Large_Lot'] = 0\n",
        "\n",
        "# View the new column\n",
        "#house[['LotArea', 'Large_Lot']].head()\n"
      ]
    },
    {
      "cell_type": "markdown",
      "id": "744f2715",
      "metadata": {
        "deletable": false,
        "editable": false,
        "nbgrader": {
          "cell_type": "markdown",
          "checksum": "9dea70bd9795d9d4306d4d75f6bb738b",
          "grade": false,
          "grade_id": "cell-6195676e517042ed",
          "locked": true,
          "schema_version": 3,
          "solution": false,
          "task": false
        },
        "id": "744f2715"
      },
      "source": [
        "**Task 12 Test**"
      ]
    },
    {
      "cell_type": "code",
      "execution_count": 102,
      "id": "a70bf92e",
      "metadata": {
        "deletable": false,
        "editable": false,
        "nbgrader": {
          "cell_type": "code",
          "checksum": "2d6c55e75206f6dee63cc4da05f2c876",
          "grade": true,
          "grade_id": "cell-ef0a2eeb1931e1dd",
          "locked": true,
          "points": 1,
          "schema_version": 3,
          "solution": false,
          "task": false
        },
        "id": "a70bf92e"
      },
      "outputs": [],
      "source": [
        "# Task 12 - Test\n",
        "\n",
        "assert 'Large_Lot' in house.columns, 'Did you add the Large_Lot column?'\n",
        "\n",
        "# Hidden tests - you'll see results when you submit to Canvas"
      ]
    },
    {
      "cell_type": "markdown",
      "id": "80f97cbd",
      "metadata": {
        "deletable": false,
        "editable": false,
        "nbgrader": {
          "cell_type": "markdown",
          "checksum": "e28e51798e885825abf4d38a9b4767cd",
          "grade": false,
          "grade_id": "cell-84b3819ff8e8ceb0",
          "locked": true,
          "schema_version": 3,
          "solution": false,
          "task": false
        },
        "id": "80f97cbd"
      },
      "source": [
        "**Task 13** - Create another feature\n",
        "\n",
        "Let's continue with creating new features. This time, we'll focus on encoding for the sale month.\n",
        "\n",
        "* Create a new column called `Summer_Sale` that takes on the following values:\n",
        "    * 0 if the sale month was in September - May (`MoSold` = 1-5, 9-12)\n",
        "    * 1 if the sale month was in June, July or August (`MoSold` = 6, 7 or 8)"
      ]
    },
    {
      "cell_type": "code",
      "execution_count": 129,
      "id": "b07db7f7",
      "metadata": {
        "deletable": false,
        "nbgrader": {
          "cell_type": "code",
          "checksum": "a4b94679e711a04425384c6e1f55e679",
          "grade": false,
          "grade_id": "cell-8a1a021ee537cab5",
          "locked": false,
          "schema_version": 3,
          "solution": true,
          "task": false
        },
        "id": "b07db7f7",
        "colab": {
          "base_uri": "https://localhost:8080/",
          "height": 424
        },
        "outputId": "eb03cb62-2175-4548-8a58-168fe254ca95"
      },
      "outputs": [
        {
          "output_type": "execute_result",
          "data": {
            "text/plain": [
              "      MoSold  Summer_Sale\n",
              "0          2            0\n",
              "1          5            0\n",
              "2          9            0\n",
              "3          2            0\n",
              "4         12            0\n",
              "...      ...          ...\n",
              "1455       8            1\n",
              "1456       2            0\n",
              "1457       5            0\n",
              "1458       4            0\n",
              "1459       6            1\n",
              "\n",
              "[1460 rows x 2 columns]"
            ],
            "text/html": [
              "\n",
              "  <div id=\"df-a8c3ac7c-5880-4415-8b95-e482ce891924\">\n",
              "    <div class=\"colab-df-container\">\n",
              "      <div>\n",
              "<style scoped>\n",
              "    .dataframe tbody tr th:only-of-type {\n",
              "        vertical-align: middle;\n",
              "    }\n",
              "\n",
              "    .dataframe tbody tr th {\n",
              "        vertical-align: top;\n",
              "    }\n",
              "\n",
              "    .dataframe thead th {\n",
              "        text-align: right;\n",
              "    }\n",
              "</style>\n",
              "<table border=\"1\" class=\"dataframe\">\n",
              "  <thead>\n",
              "    <tr style=\"text-align: right;\">\n",
              "      <th></th>\n",
              "      <th>MoSold</th>\n",
              "      <th>Summer_Sale</th>\n",
              "    </tr>\n",
              "  </thead>\n",
              "  <tbody>\n",
              "    <tr>\n",
              "      <th>0</th>\n",
              "      <td>2</td>\n",
              "      <td>0</td>\n",
              "    </tr>\n",
              "    <tr>\n",
              "      <th>1</th>\n",
              "      <td>5</td>\n",
              "      <td>0</td>\n",
              "    </tr>\n",
              "    <tr>\n",
              "      <th>2</th>\n",
              "      <td>9</td>\n",
              "      <td>0</td>\n",
              "    </tr>\n",
              "    <tr>\n",
              "      <th>3</th>\n",
              "      <td>2</td>\n",
              "      <td>0</td>\n",
              "    </tr>\n",
              "    <tr>\n",
              "      <th>4</th>\n",
              "      <td>12</td>\n",
              "      <td>0</td>\n",
              "    </tr>\n",
              "    <tr>\n",
              "      <th>...</th>\n",
              "      <td>...</td>\n",
              "      <td>...</td>\n",
              "    </tr>\n",
              "    <tr>\n",
              "      <th>1455</th>\n",
              "      <td>8</td>\n",
              "      <td>1</td>\n",
              "    </tr>\n",
              "    <tr>\n",
              "      <th>1456</th>\n",
              "      <td>2</td>\n",
              "      <td>0</td>\n",
              "    </tr>\n",
              "    <tr>\n",
              "      <th>1457</th>\n",
              "      <td>5</td>\n",
              "      <td>0</td>\n",
              "    </tr>\n",
              "    <tr>\n",
              "      <th>1458</th>\n",
              "      <td>4</td>\n",
              "      <td>0</td>\n",
              "    </tr>\n",
              "    <tr>\n",
              "      <th>1459</th>\n",
              "      <td>6</td>\n",
              "      <td>1</td>\n",
              "    </tr>\n",
              "  </tbody>\n",
              "</table>\n",
              "<p>1460 rows × 2 columns</p>\n",
              "</div>\n",
              "      <button class=\"colab-df-convert\" onclick=\"convertToInteractive('df-a8c3ac7c-5880-4415-8b95-e482ce891924')\"\n",
              "              title=\"Convert this dataframe to an interactive table.\"\n",
              "              style=\"display:none;\">\n",
              "        \n",
              "  <svg xmlns=\"http://www.w3.org/2000/svg\" height=\"24px\"viewBox=\"0 0 24 24\"\n",
              "       width=\"24px\">\n",
              "    <path d=\"M0 0h24v24H0V0z\" fill=\"none\"/>\n",
              "    <path d=\"M18.56 5.44l.94 2.06.94-2.06 2.06-.94-2.06-.94-.94-2.06-.94 2.06-2.06.94zm-11 1L8.5 8.5l.94-2.06 2.06-.94-2.06-.94L8.5 2.5l-.94 2.06-2.06.94zm10 10l.94 2.06.94-2.06 2.06-.94-2.06-.94-.94-2.06-.94 2.06-2.06.94z\"/><path d=\"M17.41 7.96l-1.37-1.37c-.4-.4-.92-.59-1.43-.59-.52 0-1.04.2-1.43.59L10.3 9.45l-7.72 7.72c-.78.78-.78 2.05 0 2.83L4 21.41c.39.39.9.59 1.41.59.51 0 1.02-.2 1.41-.59l7.78-7.78 2.81-2.81c.8-.78.8-2.07 0-2.86zM5.41 20L4 18.59l7.72-7.72 1.47 1.35L5.41 20z\"/>\n",
              "  </svg>\n",
              "      </button>\n",
              "      \n",
              "  <style>\n",
              "    .colab-df-container {\n",
              "      display:flex;\n",
              "      flex-wrap:wrap;\n",
              "      gap: 12px;\n",
              "    }\n",
              "\n",
              "    .colab-df-convert {\n",
              "      background-color: #E8F0FE;\n",
              "      border: none;\n",
              "      border-radius: 50%;\n",
              "      cursor: pointer;\n",
              "      display: none;\n",
              "      fill: #1967D2;\n",
              "      height: 32px;\n",
              "      padding: 0 0 0 0;\n",
              "      width: 32px;\n",
              "    }\n",
              "\n",
              "    .colab-df-convert:hover {\n",
              "      background-color: #E2EBFA;\n",
              "      box-shadow: 0px 1px 2px rgba(60, 64, 67, 0.3), 0px 1px 3px 1px rgba(60, 64, 67, 0.15);\n",
              "      fill: #174EA6;\n",
              "    }\n",
              "\n",
              "    [theme=dark] .colab-df-convert {\n",
              "      background-color: #3B4455;\n",
              "      fill: #D2E3FC;\n",
              "    }\n",
              "\n",
              "    [theme=dark] .colab-df-convert:hover {\n",
              "      background-color: #434B5C;\n",
              "      box-shadow: 0px 1px 3px 1px rgba(0, 0, 0, 0.15);\n",
              "      filter: drop-shadow(0px 1px 2px rgba(0, 0, 0, 0.3));\n",
              "      fill: #FFFFFF;\n",
              "    }\n",
              "  </style>\n",
              "\n",
              "      <script>\n",
              "        const buttonEl =\n",
              "          document.querySelector('#df-a8c3ac7c-5880-4415-8b95-e482ce891924 button.colab-df-convert');\n",
              "        buttonEl.style.display =\n",
              "          google.colab.kernel.accessAllowed ? 'block' : 'none';\n",
              "\n",
              "        async function convertToInteractive(key) {\n",
              "          const element = document.querySelector('#df-a8c3ac7c-5880-4415-8b95-e482ce891924');\n",
              "          const dataTable =\n",
              "            await google.colab.kernel.invokeFunction('convertToInteractive',\n",
              "                                                     [key], {});\n",
              "          if (!dataTable) return;\n",
              "\n",
              "          const docLinkHtml = 'Like what you see? Visit the ' +\n",
              "            '<a target=\"_blank\" href=https://colab.research.google.com/notebooks/data_table.ipynb>data table notebook</a>'\n",
              "            + ' to learn more about interactive tables.';\n",
              "          element.innerHTML = '';\n",
              "          dataTable['output_type'] = 'display_data';\n",
              "          await google.colab.output.renderOutput(dataTable, element);\n",
              "          const docLink = document.createElement('div');\n",
              "          docLink.innerHTML = docLinkHtml;\n",
              "          element.appendChild(docLink);\n",
              "        }\n",
              "      </script>\n",
              "    </div>\n",
              "  </div>\n",
              "  "
            ]
          },
          "metadata": {},
          "execution_count": 129
        }
      ],
      "source": [
        "# Task 13\n",
        "\n",
        "# YOUR CODE HERE\n",
        "summer_mask = (house['MoSold'] >= 6) & (house['MoSold'] <= 8) #bitwise and\n",
        "house.loc[summer_mask, 'Summer_Sale'] = 1\n",
        "house.loc[~ summer_mask, 'Summer_Sale'] = 0 #bitwise not\n",
        "house['Summer_Sale'] = house['Summer_Sale'].astype('int') #the above line leaves them as floats due to NaN from first assignment\n",
        "\n",
        "\n",
        "# View the new column\n",
        "house[['MoSold', 'Summer_Sale']]"
      ]
    },
    {
      "cell_type": "markdown",
      "id": "10415920",
      "metadata": {
        "deletable": false,
        "editable": false,
        "nbgrader": {
          "cell_type": "markdown",
          "checksum": "49d5cfbf24c4faa457c08209ba10cbcc",
          "grade": false,
          "grade_id": "cell-6554efedfc0cadbb",
          "locked": true,
          "schema_version": 3,
          "solution": false,
          "task": false
        },
        "id": "10415920"
      },
      "source": [
        "**Task 13 Test**"
      ]
    },
    {
      "cell_type": "code",
      "execution_count": 130,
      "id": "b15bfef7",
      "metadata": {
        "deletable": false,
        "editable": false,
        "nbgrader": {
          "cell_type": "code",
          "checksum": "e1206bafa44ffe525497045181d540c7",
          "grade": true,
          "grade_id": "cell-061d02cacd118c79",
          "locked": true,
          "points": 1,
          "schema_version": 3,
          "solution": false,
          "task": false
        },
        "id": "b15bfef7"
      },
      "outputs": [],
      "source": [
        "# Task 13 - Test\n",
        "\n",
        "assert 'Summer_Sale' in house.columns, 'Did you add the Summer_Sale column?'\n",
        "\n",
        "# Hidden tests - you'll see results when you submit to Canvas"
      ]
    },
    {
      "cell_type": "code",
      "execution_count": null,
      "id": "91126e63",
      "metadata": {
        "id": "91126e63"
      },
      "outputs": [],
      "source": [
        ""
      ]
    }
  ],
  "metadata": {
    "kernelspec": {
      "display_name": "Python 3",
      "language": "python",
      "name": "python3"
    },
    "language_info": {
      "codemirror_mode": {
        "name": "ipython",
        "version": 3
      },
      "file_extension": ".py",
      "mimetype": "text/x-python",
      "name": "python",
      "nbconvert_exporter": "python",
      "pygments_lexer": "ipython3",
      "version": "3.8.8"
    },
    "colab": {
      "name": "DS_112_EDA_Features_Assignment_AG - JDv3.ipynb",
      "provenance": [],
      "collapsed_sections": []
    }
  },
  "nbformat": 4,
  "nbformat_minor": 5
}